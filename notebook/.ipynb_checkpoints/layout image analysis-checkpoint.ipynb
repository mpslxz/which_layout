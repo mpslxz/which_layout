{
 "cells": [
  {
   "cell_type": "code",
   "execution_count": 9,
   "metadata": {
    "autoscroll": false,
    "collapsed": false,
    "deletable": true,
    "editable": true,
    "ein.tags": "worksheet-0",
    "slideshow": {
     "slide-type": "-"
    }
   },
   "outputs": [],
   "source": [
    "import numpy as np\n",
    "import matplotlib.pyplot as plt\n",
    "import cv2\n",
    "%matplotlib inline"
   ]
  },
  {
   "cell_type": "markdown",
   "metadata": {
    "ein.tags": "worksheet-0",
    "slideshow": {
     "slide-type": "-"
    }
   },
   "source": [
    "## Function which overlays the key frequency on the layout and returns the mask"
   ]
  },
  {
   "cell_type": "code",
   "execution_count": 142,
   "metadata": {
    "autoscroll": false,
    "collapsed": false,
    "ein.tags": "worksheet-0",
    "slideshow": {
     "slide-type": "-"
    }
   },
   "outputs": [],
   "source": [
    "def generate_layout_map(freqeuncy_list, original_layout):\n",
    "    block_size = 60\n",
    "    row_blocks = [13, 13, 11, 10]\n",
    "    row_offsets = [0, 90, 105, 135]\n",
    "    mask = np.zeros_like(original_layout)\n",
    "    count = 0\n",
    "    for row in range(4):\n",
    "        for i in range(row_blocks[row]):\n",
    "            mask[row*block_size:(row+1)*block_size,\n",
    "                 i*block_size + row_offsets[row]:(i+1)*block_size + row_offsets[row]] = freqeuncy_list[row][i]\n",
    "    return mask"
   ]
  },
  {
   "cell_type": "code",
   "execution_count": 147,
   "metadata": {
    "autoscroll": false,
    "collapsed": false,
    "deletable": true,
    "editable": true,
    "ein.tags": "worksheet-0",
    "slideshow": {
     "slide-type": "-"
    }
   },
   "outputs": [],
   "source": [
    "qwerty = cv2.imread('../layouts/KB_US-Dvorak_with_AltGr.png', 0)"
   ]
  },
  {
   "cell_type": "code",
   "execution_count": 149,
   "metadata": {
    "autoscroll": false,
    "collapsed": false,
    "deletable": true,
    "editable": true,
    "ein.tags": "worksheet-0",
    "slideshow": {
     "slide-type": "-"
    }
   },
   "outputs": [
    {
     "data": {
      "text/plain": [
       "<matplotlib.figure.Figure at 0x7fa4be875f50>"
      ]
     },
     "metadata": {},
     "output_type": "display_data"
    },
    {
     "data": {
      "text/plain": [
       "<matplotlib.image.AxesImage at 0x7fa4be789710>"
      ]
     },
     "execution_count": 149,
     "metadata": {},
     "output_type": "execute_result"
    }
   ],
   "source": [
    "f_list = [np.random.randint(0,100, (13,)),\n",
    "          np.random.randint(0,100, (13,)),\n",
    "          np.random.randint(0,100, (11,)),\n",
    "          np.random.randint(0,100, (10,))]\n",
    "\n",
    "res = generate_layout_map(f_list, qwerty)\n",
    "res = 1.*res/np.max(res)\n",
    "\n",
    "plt.imshow(res*qwerty, cmap='jet')\n"
   ]
  }
 ],
 "metadata": {
  "kernelspec": {
   "display_name": "Python 2",
   "name": "python2"
  },
  "language_info": {
   "codemirror_mode": {
    "name": "ipython",
    "version": 2
   },
   "file_extension": ".py",
   "mimetype": "text/x-python",
   "name": "python",
   "nbconvert_exporter": "python",
   "pygments_lexer": "ipython2",
   "version": "2.7.13"
  },
  "name": "layout iamge analysis.ipynb"
 },
 "nbformat": 4,
 "nbformat_minor": 2
}
