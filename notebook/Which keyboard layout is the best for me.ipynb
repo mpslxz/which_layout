{
 "cells": [
  {
   "cell_type": "markdown",
   "metadata": {
    "ein.tags": "worksheet-0",
    "slideshow": {
     "slide-type": "-"
    }
   },
   "source": [
    "# Welcome"
   ]
  },
  {
   "cell_type": "markdown",
   "metadata": {
    "ein.tags": "worksheet-0",
    "slideshow": {
     "slide-type": "-"
    }
   },
   "source": [
    "Using this notebook, you can see how different keyboard layouts will work for you. "
   ]
  },
  {
   "cell_type": "code",
   "execution_count": 36,
   "metadata": {
    "autoscroll": false,
    "collapsed": false,
    "deletable": true,
    "editable": true,
    "ein.tags": "worksheet-0",
    "slideshow": {
     "slide-type": "-"
    }
   },
   "outputs": [],
   "source": [
    "import os\n",
    "from collections import Counter\n",
    "import numpy as np\n",
    "import matplotlib.pyplot as plt\n",
    "import cv2\n",
    "%matplotlib inline"
   ]
  },
  {
   "cell_type": "markdown",
   "metadata": {
    "deletable": true,
    "editable": true,
    "ein.tags": "worksheet-0",
    "slideshow": {
     "slide-type": "-"
    }
   },
   "source": [
    "## File utils"
   ]
  },
  {
   "cell_type": "code",
   "execution_count": 37,
   "metadata": {
    "autoscroll": false,
    "collapsed": false,
    "deletable": true,
    "editable": true,
    "ein.tags": "worksheet-0",
    "slideshow": {
     "slide-type": "-"
    }
   },
   "outputs": [],
   "source": [
    "def find_files(root_folder, extension):\n",
    "    res = []\n",
    "    for root, dirs, files in os.walk(root_folder, topdown=False):\n",
    "        for name in files:\n",
    "            if name.endswith(extension):\n",
    "                print os.path.join(root, name)\n",
    "                res.append(os.path.join(root, name))\n",
    "    return res    "
   ]
  },
  {
   "cell_type": "code",
   "execution_count": 25,
   "metadata": {
    "autoscroll": false,
    "collapsed": false,
    "deletable": true,
    "editable": true,
    "ein.tags": "worksheet-0",
    "slideshow": {
     "slide-type": "-"
    }
   },
   "outputs": [],
   "source": [
    "def get_char_hist(string):\n",
    "    letter_hist = Counter(string.replace('\\n', ''))\n",
    "    return letter_hist"
   ]
  },
  {
   "cell_type": "code",
   "execution_count": 26,
   "metadata": {
    "autoscroll": false,
    "collapsed": false,
    "deletable": true,
    "editable": true,
    "ein.tags": "worksheet-0",
    "slideshow": {
     "slide-type": "-"
    }
   },
   "outputs": [],
   "source": [
    "def file_to_string(path):\n",
    "    with open(path, 'r') as f:\n",
    "        string = f.read().replace('\\n', '')\n",
    "    return string.replace(' ', '')"
   ]
  },
  {
   "cell_type": "code",
   "execution_count": 27,
   "metadata": {
    "autoscroll": false,
    "collapsed": false,
    "deletable": true,
    "editable": true,
    "ein.tags": "worksheet-0",
    "slideshow": {
     "slide-type": "-"
    }
   },
   "outputs": [],
   "source": [
    "def accumulate_hists(h1, h2):\n",
    "    for key in h1.keys():\n",
    "        if key in k2.keys():\n",
    "            h1[key] += h2[key]\n",
    "    return h1"
   ]
  },
  {
   "cell_type": "markdown",
   "metadata": {
    "deletable": true,
    "editable": true,
    "ein.tags": "worksheet-0",
    "slideshow": {
     "slide-type": "-"
    }
   },
   "source": [
    "## Function which overlays the key frequency on the layout and returns the mask"
   ]
  },
  {
   "cell_type": "code",
   "execution_count": 70,
   "metadata": {
    "autoscroll": false,
    "collapsed": false,
    "deletable": true,
    "editable": true,
    "ein.tags": "worksheet-0",
    "slideshow": {
     "slide-type": "-"
    }
   },
   "outputs": [],
   "source": [
    "def generate_layout_map(freqeuncy_list, original_layout_shape):\n",
    "    block_size = 60\n",
    "    row_blocks = [13, 13, 11, 10]\n",
    "    row_offsets = [0, 90, 105, 135]\n",
    "    mask = np.zeros(original_layout_shape)\n",
    "    count = 0\n",
    "    for row in range(4):\n",
    "        for i in range(row_blocks[row]):\n",
    "            mask[row*block_size:(row+1)*block_size,\n",
    "                 i*block_size + row_offsets[row]:(i+1)*block_size + row_offsets[row]] = freqeuncy_list[row][i]\n",
    "    return mask"
   ]
  },
  {
   "cell_type": "markdown",
   "metadata": {
    "deletable": true,
    "editable": true,
    "ein.tags": "worksheet-0",
    "slideshow": {
     "slide-type": "-"
    }
   },
   "source": [
    "## Function to map the character histogram to frequency list based on layout"
   ]
  },
  {
   "cell_type": "code",
   "execution_count": 29,
   "metadata": {
    "autoscroll": false,
    "collapsed": false,
    "deletable": true,
    "editable": true,
    "ein.tags": "worksheet-0",
    "slideshow": {
     "slide-type": "-"
    }
   },
   "outputs": [],
   "source": [
    "def hist_to_freq_list(hist, layout):\n",
    "    freq_list = [np.zeros((13)),\n",
    "                 np.zeros((13)),\n",
    "                 np.zeros((11)),\n",
    "                 np.zeros((10))]\n",
    "    for row_ind, row in enumerate(layout):\n",
    "        row_list = []\n",
    "        count = 0\n",
    "        for i in range(0, len(row), 2):\n",
    "            freq_list[row_ind][count] = hist[layout[row_ind][i]] + hist[layout[row_ind][i+1]]\n",
    "            count += 1\n",
    "    return freq_list"
   ]
  },
  {
   "cell_type": "markdown",
   "metadata": {
    "deletable": true,
    "editable": true,
    "ein.tags": "worksheet-0",
    "slideshow": {
     "slide-type": "-"
    }
   },
   "source": [
    "## layouts"
   ]
  },
  {
   "cell_type": "code",
   "execution_count": 30,
   "metadata": {
    "autoscroll": false,
    "collapsed": false,
    "deletable": true,
    "editable": true,
    "ein.tags": "worksheet-0",
    "slideshow": {
     "slide-type": "-"
    }
   },
   "outputs": [],
   "source": [
    "workman = ['`~1!2@3#4$5%6^7&8*9(0)-_=+', 'qQdDrRwWbBjJfFuUpP;:[{]}\\|', 'aAsShHtTgGyYnNeEoOiI\\'\\\"', 'zZxXmMcCvVkKlL,<.>/?']\n",
    "dvorak = ['`~1!2@3#4$5%6^7&8*9(0)[{]}', '\\'\\\",<.>pPyYfFgGcCrRlL/?=+\\|', 'aAoOeEuUiIdDhHtTnNsS-_', ';:qQjJkKxXbBmMwWvVzZ']\n",
    "colemac = ['`~1!2@3#4$5%6^7&8*9(0)-_=+', 'qQwWfFpPgGjJlLuUyY;:[{]}\\|', 'aArRsStTdDhHnNeEiIoO\\'\\\"', 'zZxXcCvVbBkKmM,<.>/?']\n",
    "qwerty = ['`~1!2@3#4$5%6^7&8*9(0)-_=+', 'qQwWeErRtTyYuUiIoOpP[{]}\\|', 'aAsSdDfFgGhHjJkKlL;:\\'\\\"', 'zZxXcCvVbBnNmM,<.>/?']"
   ]
  },
  {
   "cell_type": "markdown",
   "metadata": {
    "ein.tags": "worksheet-0",
    "slideshow": {
     "slide-type": "-"
    }
   },
   "source": [
    "# Let the party begin :P"
   ]
  },
  {
   "cell_type": "markdown",
   "metadata": {
    "ein.tags": "worksheet-0",
    "slideshow": {
     "slide-type": "-"
    }
   },
   "source": [
    "### Read all of the files you are interested"
   ]
  },
  {
   "cell_type": "code",
   "execution_count": 100,
   "metadata": {
    "autoscroll": false,
    "collapsed": false,
    "ein.tags": "worksheet-0",
    "slideshow": {
     "slide-type": "-"
    }
   },
   "outputs": [],
   "source": [
    "files = find_files('~/git/', '.cpp')"
   ]
  },
  {
   "cell_type": "markdown",
   "metadata": {
    "ein.tags": "worksheet-0",
    "slideshow": {
     "slide-type": "-"
    }
   },
   "source": [
    "### Create a string from all of the files "
   ]
  },
  {
   "cell_type": "code",
   "execution_count": 96,
   "metadata": {
    "autoscroll": false,
    "collapsed": false,
    "ein.tags": "worksheet-0",
    "slideshow": {
     "slide-type": "-"
    }
   },
   "outputs": [],
   "source": [
    "string = ''\n",
    "for f in files:\n",
    "    if f.split('/')[-1].startswith('.'):\n",
    "        continue\n",
    "    string += file_to_string(f)\n"
   ]
  },
  {
   "cell_type": "markdown",
   "metadata": {
    "ein.tags": "worksheet-0",
    "slideshow": {
     "slide-type": "-"
    }
   },
   "source": [
    "### Create the character histogram"
   ]
  },
  {
   "cell_type": "code",
   "execution_count": null,
   "metadata": {
    "autoscroll": false,
    "collapsed": false,
    "ein.tags": "worksheet-0",
    "slideshow": {
     "slide-type": "-"
    }
   },
   "outputs": [],
   "source": [
    "h = get_char_hist(string)"
   ]
  },
  {
   "cell_type": "markdown",
   "metadata": {
    "ein.tags": "worksheet-0",
    "slideshow": {
     "slide-type": "-"
    }
   },
   "source": [
    "### Load the keyboard layout images and threshold them"
   ]
  },
  {
   "cell_type": "code",
   "execution_count": 97,
   "metadata": {
    "autoscroll": false,
    "collapsed": false,
    "ein.tags": "worksheet-0",
    "slideshow": {
     "slide-type": "-"
    }
   },
   "outputs": [],
   "source": [
    "qwerty_image = cv2.imread('../layouts/KB_US-QWERTY_with_AltGr.png', 0)\n",
    "dvorak_image = cv2.imread('../layouts/KB_US-Dvorak_with_AltGr.png', 0)\n",
    "colemac_image = cv2.imread('../layouts/KB_US-Colemak_with_AltGr.png', 0)\n",
    "workman_image = cv2.imread('../layouts/KB_US-Workman_with_AltGr.png', 0)\n",
    "qwerty_image[np.where(qwerty_image > 100)] = 255\n",
    "dvorak_image[np.where(dvorak_image > 100)] = 255\n",
    "colemac_image[np.where(colemac_image > 100)] = 255\n",
    "workman_image[np.where(workman_image > 100)] = 255"
   ]
  },
  {
   "cell_type": "markdown",
   "metadata": {
    "ein.tags": "worksheet-0",
    "slideshow": {
     "slide-type": "-"
    }
   },
   "source": [
    "### Make the stroke map of the keys and overlay them on the layout images"
   ]
  },
  {
   "cell_type": "code",
   "execution_count": 99,
   "metadata": {
    "autoscroll": false,
    "collapsed": false,
    "ein.tags": "worksheet-0",
    "slideshow": {
     "slide-type": "-"
    }
   },
   "outputs": [
    {
     "data": {
      "text/plain": [
       "True"
      ]
     },
     "execution_count": 99,
     "metadata": {},
     "output_type": "execute_result"
    }
   ],
   "source": [
    "smoothing_kernel = np.ones((11, 11), np.float32)/121\n",
    "\n",
    "f_list = hist_to_freq_list(h, colemac)\n",
    "mask = generate_layout_map(f_list, (300,900))\n",
    "mask = (mask - np.min(mask)) / (np.max(mask) - np.min(mask))\n",
    "mask_smooth = cv2.filter2D(mask, -1, smoothing_kernel)\n",
    "cv2.imwrite('colemac.png', mask_smooth * colemac_image)\n",
    "\n",
    "f_list = hist_to_freq_list(h, dvorak)\n",
    "mask = generate_layout_map(f_list, (300,900))\n",
    "mask = (mask - np.min(mask)) / (np.max(mask) - np.min(mask))\n",
    "mask_smooth = cv2.filter2D(mask, -1, smoothing_kernel)\n",
    "cv2.imwrite('dvorak.png', mask_smooth * dvorak_image)\n",
    "\n",
    "f_list = hist_to_freq_list(h, workman)\n",
    "mask = generate_layout_map(f_list, (300,900))\n",
    "mask = (mask - np.min(mask)) / (np.max(mask) - np.min(mask))\n",
    "mask_smooth = cv2.filter2D(mask, -1, smoothing_kernel)\n",
    "cv2.imwrite('workman.png', mask_smooth * workman_image)\n",
    "\n",
    "f_list = hist_to_freq_list(h, qwerty)\n",
    "mask = generate_layout_map(f_list, (300,900))\n",
    "mask = (mask - np.min(mask)) / (np.max(mask) - np.min(mask))\n",
    "mask_smooth = cv2.filter2D(mask, -1, smoothing_kernel)\n",
    "cv2.imwrite('qwerty.png', mask_smooth * qwerty_image)"
   ]
  }
 ],
 "metadata": {
  "kernelspec": {
   "display_name": "Python 2",
   "name": "python2"
  },
  "language_info": {
   "codemirror_mode": {
    "name": "ipython",
    "version": 2
   },
   "file_extension": ".py",
   "mimetype": "text/x-python",
   "name": "python",
   "nbconvert_exporter": "python",
   "pygments_lexer": "ipython2",
   "version": "2.7.13"
  },
  "name": "Which keyboard layout is the best for me.ipynb"
 },
 "nbformat": 4,
 "nbformat_minor": 2
}
